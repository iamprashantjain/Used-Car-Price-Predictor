{
 "cells": [
  {
   "cell_type": "markdown",
   "id": "1d6ffcc9",
   "metadata": {},
   "source": [
    "### imports & data"
   ]
  },
  {
   "cell_type": "code",
   "execution_count": 6,
   "id": "26b247df",
   "metadata": {},
   "outputs": [],
   "source": [
    "import pandas as pd\n",
    "import numpy as np\n",
    "from sklearn.impute import SimpleImputer\n",
    "from xgboost import XGBRegressor\n",
    "from sklearn.preprocessing import OneHotEncoder\n",
    "from sklearn.model_selection import train_test_split\n",
    "from sklearn.linear_model import LinearRegression, Ridge, Lasso, ElasticNet\n",
    "from sklearn.tree import DecisionTreeRegressor\n",
    "from sklearn.ensemble import RandomForestRegressor, GradientBoostingRegressor\n",
    "from sklearn.svm import SVR\n",
    "from sklearn.metrics import mean_absolute_error, mean_squared_error, r2_score\n",
    "import mlflow\n",
    "import mlflow.sklearn\n",
    "import dagshub"
   ]
  },
  {
   "cell_type": "code",
   "execution_count": 4,
   "id": "55d90f69",
   "metadata": {},
   "outputs": [],
   "source": [
    "df = pd.read_excel(r\"I:\\CampusX_DS\\campusx_dsmp2\\9. MLOps revisited\\tutorial\\Used-Car-Price-Predictor\\experiment\\cars24_v3.xlsx\")"
   ]
  },
  {
   "cell_type": "code",
   "execution_count": 5,
   "id": "94fac657",
   "metadata": {},
   "outputs": [
    {
     "data": {
      "text/html": [
       "<pre style=\"white-space:pre;overflow-x:auto;line-height:normal;font-family:Menlo,'DejaVu Sans Mono',consolas,'Courier New',monospace\">Accessing as iamprashantjain\n",
       "</pre>\n"
      ],
      "text/plain": [
       "Accessing as iamprashantjain\n"
      ]
     },
     "metadata": {},
     "output_type": "display_data"
    },
    {
     "data": {
      "text/html": [
       "<pre style=\"white-space:pre;overflow-x:auto;line-height:normal;font-family:Menlo,'DejaVu Sans Mono',consolas,'Courier New',monospace\">Initialized MLflow to track repo <span style=\"color: #008000; text-decoration-color: #008000\">\"iamprashantjain/Used-Car-Price-Predictor\"</span>\n",
       "</pre>\n"
      ],
      "text/plain": [
       "Initialized MLflow to track repo \u001b[32m\"iamprashantjain/Used-Car-Price-Predictor\"\u001b[0m\n"
      ]
     },
     "metadata": {},
     "output_type": "display_data"
    },
    {
     "data": {
      "text/html": [
       "<pre style=\"white-space:pre;overflow-x:auto;line-height:normal;font-family:Menlo,'DejaVu Sans Mono',consolas,'Courier New',monospace\">Repository iamprashantjain/Used-Car-Price-Predictor initialized!\n",
       "</pre>\n"
      ],
      "text/plain": [
       "Repository iamprashantjain/Used-Car-Price-Predictor initialized!\n"
      ]
     },
     "metadata": {},
     "output_type": "display_data"
    },
    {
     "name": "stderr",
     "output_type": "stream",
     "text": [
      "2025/07/18 14:08:14 INFO mlflow.tracking.fluent: Experiment with name 'BaseLine Model' does not exist. Creating a new experiment.\n"
     ]
    },
    {
     "data": {
      "text/plain": [
       "<Experiment: artifact_location='mlflow-artifacts:/986edfba90e24830a2050d400151c3c4', creation_time=1752827895205, experiment_id='0', last_update_time=1752827895205, lifecycle_stage='active', name='BaseLine Model', tags={}>"
      ]
     },
     "execution_count": 5,
     "metadata": {},
     "output_type": "execute_result"
    }
   ],
   "source": [
    "import dagshub\n",
    "dagshub.init(repo_owner='iamprashantjain', repo_name='Used-Car-Price-Predictor', mlflow=True)\n",
    "mlflow.set_tracking_uri(\"https://dagshub.com/iamprashantjain/Used-Car-Price-Predictor.mlflow\")\n",
    "mlflow.set_experiment('BaseLine Model')"
   ]
  },
  {
   "cell_type": "markdown",
   "id": "482876a2",
   "metadata": {},
   "source": [
    "### experiment 1 - find best model"
   ]
  },
  {
   "cell_type": "code",
   "execution_count": 7,
   "id": "e743f510",
   "metadata": {},
   "outputs": [
    {
     "name": "stderr",
     "output_type": "stream",
     "text": [
      "c:\\Users\\iampr\\AppData\\Local\\Programs\\Python\\Python38\\lib\\site-packages\\sklearn\\preprocessing\\_encoders.py:975: FutureWarning: `sparse` was renamed to `sparse_output` in version 1.2 and will be removed in 1.4. `sparse_output` is ignored unless you leave `sparse` to its default value.\n",
      "  warnings.warn(\n",
      "2025/07/18 14:13:21 WARNING mlflow.models.model: Model logged without a signature and input example. Please set `input_example` parameter when logging the model to auto infer the model signature.\n"
     ]
    },
    {
     "name": "stdout",
     "output_type": "stream",
     "text": [
      "\n",
      "Model: RandomForestRegressor\n",
      "  MAE: 23474.94, MSE: 19281890090.47, R2: 0.94\n",
      "----------------------------------------\n"
     ]
    },
    {
     "name": "stderr",
     "output_type": "stream",
     "text": [
      "2025/07/18 14:13:31 INFO mlflow.tracking._tracking_service.client: 🏃 View run RandomForestRegressor at: https://dagshub.com/iamprashantjain/Used-Car-Price-Predictor.mlflow/#/experiments/0/runs/c92e9c112bf245f0a3741dd79ca863f6.\n",
      "2025/07/18 14:13:31 INFO mlflow.tracking._tracking_service.client: 🧪 View experiment at: https://dagshub.com/iamprashantjain/Used-Car-Price-Predictor.mlflow/#/experiments/0.\n",
      "2025/07/18 14:13:57 WARNING mlflow.models.model: Model logged without a signature and input example. Please set `input_example` parameter when logging the model to auto infer the model signature.\n"
     ]
    },
    {
     "name": "stdout",
     "output_type": "stream",
     "text": [
      "\n",
      "Model: XGBRegressor\n",
      "  MAE: 34178.28, MSE: 36337214232.42, R2: 0.88\n",
      "----------------------------------------\n"
     ]
    },
    {
     "name": "stderr",
     "output_type": "stream",
     "text": [
      "2025/07/18 14:14:02 INFO mlflow.tracking._tracking_service.client: 🏃 View run XGBRegressor at: https://dagshub.com/iamprashantjain/Used-Car-Price-Predictor.mlflow/#/experiments/0/runs/070c72fdff4a4d9b93970f0306b324ef.\n",
      "2025/07/18 14:14:02 INFO mlflow.tracking._tracking_service.client: 🧪 View experiment at: https://dagshub.com/iamprashantjain/Used-Car-Price-Predictor.mlflow/#/experiments/0.\n",
      "2025/07/18 14:14:03 INFO mlflow.tracking._tracking_service.client: 🏃 View run RandomForest_vs_XGBoost at: https://dagshub.com/iamprashantjain/Used-Car-Price-Predictor.mlflow/#/experiments/0/runs/aa49f7abea8547b3bd78287c7ac30ceb.\n",
      "2025/07/18 14:14:03 INFO mlflow.tracking._tracking_service.client: 🧪 View experiment at: https://dagshub.com/iamprashantjain/Used-Car-Price-Predictor.mlflow/#/experiments/0.\n"
     ]
    }
   ],
   "source": [
    "# --- Models ---\n",
    "regression_models = {\n",
    "    \"RandomForestRegressor\": RandomForestRegressor(),\n",
    "    \"XGBRegressor\": XGBRegressor()\n",
    "}\n",
    "\n",
    "# --- Preprocessing ---\n",
    "numerical_cols = ['listingPrice', 'odometer', 'fitnessAge', 'cashDownPayment', 'emiStartingValue',\n",
    "                  'emiEndingValue', 'roiMinDiscounted', 'roiMaxDiscounted', 'roiMinOriginal',\n",
    "                  'roiMaxOriginal', 'emiOriginalStartingValue', 'emiOriginalEndingValue', 'featureCount', 'avgEmi']\n",
    "\n",
    "categorical_cols = ['make', 'model', 'variant', 'year', 'transmissionType', 'bodyType', 'fuelType',\n",
    "                    'ownership', 'color', '360DegreeCamera', 'AlloyWheels', 'AppleCarplayAndroidAuto',\n",
    "                    'Bluetooth', 'CruiseControl', 'GpsNavigation', 'InfotainmentSystem', 'LeatherSeats',\n",
    "                    'ParkingAssist', 'PushButtonStart', 'RearAc', 'SpecialRegNo', 'Sunroof/Moonroof',\n",
    "                    'TopModel', 'Tpms', 'VentilatedSeats']\n",
    "\n",
    "# Impute missing values\n",
    "numerical_imputer = SimpleImputer(strategy='mean')\n",
    "categorical_imputer = SimpleImputer(strategy='most_frequent')\n",
    "\n",
    "df[numerical_cols] = numerical_imputer.fit_transform(df[numerical_cols])\n",
    "df[categorical_cols] = categorical_imputer.fit_transform(df[categorical_cols])\n",
    "\n",
    "# Encode categorical\n",
    "encoder = OneHotEncoder(sparse=False, drop='first')\n",
    "encoded_categorical = encoder.fit_transform(df[categorical_cols])\n",
    "encoded_df = pd.DataFrame(encoded_categorical, columns=encoder.get_feature_names_out(categorical_cols))\n",
    "\n",
    "# Combine\n",
    "df_encoded = pd.concat([df[numerical_cols], encoded_df], axis=1)\n",
    "\n",
    "# Split X and y\n",
    "X = df_encoded.drop(columns=[\"listingPrice\"])\n",
    "y = df_encoded[\"listingPrice\"]\n",
    "X_train, X_test, y_train, y_test = train_test_split(X, y, test_size=0.2, random_state=42)\n",
    "\n",
    "# --- MLflow Tracking ---\n",
    "with mlflow.start_run(run_name=\"RandomForest_vs_XGBoost\") as parent_run:\n",
    "    mlflow.set_tag(\"experiment_type\", \"regression_comparison_2models\")\n",
    "    mlflow.log_param(\"test_size\", 0.2)\n",
    "\n",
    "    for model_name, model in regression_models.items():\n",
    "        with mlflow.start_run(run_name=model_name, nested=True):\n",
    "            mlflow.log_param(\"model\", model_name)\n",
    "\n",
    "            model.fit(X_train, y_train)\n",
    "            y_pred = model.predict(X_test)\n",
    "\n",
    "            mae = mean_absolute_error(y_test, y_pred)\n",
    "            mse = mean_squared_error(y_test, y_pred)\n",
    "            r2 = r2_score(y_test, y_pred)\n",
    "\n",
    "            mlflow.log_metric(\"mae\", mae)\n",
    "            mlflow.log_metric(\"mse\", mse)\n",
    "            mlflow.log_metric(\"r2_score\", r2)\n",
    "\n",
    "            mlflow.sklearn.log_model(model, f\"{model_name}_model\")\n",
    "\n",
    "            print(f\"\\nModel: {model_name}\")\n",
    "            print(f\"  MAE: {mae:.2f}, MSE: {mse:.2f}, R2: {r2:.2f}\")\n",
    "            print(\"-\" * 40)\n"
   ]
  },
  {
   "cell_type": "markdown",
   "id": "ee93e839",
   "metadata": {},
   "source": [
    "### experiment 2 - find best params"
   ]
  },
  {
   "cell_type": "code",
   "execution_count": 8,
   "id": "cebf5fa4",
   "metadata": {},
   "outputs": [
    {
     "name": "stderr",
     "output_type": "stream",
     "text": [
      "2025/07/18 14:17:57 WARNING mlflow.models.model: Model logged without a signature and input example. Please set `input_example` parameter when logging the model to auto infer the model signature.\n"
     ]
    },
    {
     "name": "stdout",
     "output_type": "stream",
     "text": [
      "Run 1: R2=0.9348, Params={'n_estimators': 100, 'max_depth': None, 'min_samples_split': 2}\n"
     ]
    },
    {
     "name": "stderr",
     "output_type": "stream",
     "text": [
      "2025/07/18 14:18:08 INFO mlflow.tracking._tracking_service.client: 🏃 View run run_1 at: https://dagshub.com/iamprashantjain/Used-Car-Price-Predictor.mlflow/#/experiments/0/runs/72be8ecafd884df0943b06cef31c5840.\n",
      "2025/07/18 14:18:08 INFO mlflow.tracking._tracking_service.client: 🧪 View experiment at: https://dagshub.com/iamprashantjain/Used-Car-Price-Predictor.mlflow/#/experiments/0.\n",
      "2025/07/18 14:19:40 WARNING mlflow.models.model: Model logged without a signature and input example. Please set `input_example` parameter when logging the model to auto infer the model signature.\n"
     ]
    },
    {
     "name": "stdout",
     "output_type": "stream",
     "text": [
      "Run 2: R2=0.9368, Params={'n_estimators': 100, 'max_depth': None, 'min_samples_split': 5}\n"
     ]
    },
    {
     "name": "stderr",
     "output_type": "stream",
     "text": [
      "2025/07/18 14:19:48 INFO mlflow.tracking._tracking_service.client: 🏃 View run run_2 at: https://dagshub.com/iamprashantjain/Used-Car-Price-Predictor.mlflow/#/experiments/0/runs/81f26bc8e86d40eaa2bfcec4b750a914.\n",
      "2025/07/18 14:19:48 INFO mlflow.tracking._tracking_service.client: 🧪 View experiment at: https://dagshub.com/iamprashantjain/Used-Car-Price-Predictor.mlflow/#/experiments/0.\n",
      "2025/07/18 14:21:02 WARNING mlflow.models.model: Model logged without a signature and input example. Please set `input_example` parameter when logging the model to auto infer the model signature.\n"
     ]
    },
    {
     "name": "stdout",
     "output_type": "stream",
     "text": [
      "Run 3: R2=0.9407, Params={'n_estimators': 100, 'max_depth': 10, 'min_samples_split': 2}\n"
     ]
    },
    {
     "name": "stderr",
     "output_type": "stream",
     "text": [
      "2025/07/18 14:21:07 INFO mlflow.tracking._tracking_service.client: 🏃 View run run_3 at: https://dagshub.com/iamprashantjain/Used-Car-Price-Predictor.mlflow/#/experiments/0/runs/1da647e1a4444784876c874667fad092.\n",
      "2025/07/18 14:21:07 INFO mlflow.tracking._tracking_service.client: 🧪 View experiment at: https://dagshub.com/iamprashantjain/Used-Car-Price-Predictor.mlflow/#/experiments/0.\n",
      "2025/07/18 14:22:18 WARNING mlflow.models.model: Model logged without a signature and input example. Please set `input_example` parameter when logging the model to auto infer the model signature.\n"
     ]
    },
    {
     "name": "stdout",
     "output_type": "stream",
     "text": [
      "Run 4: R2=0.9367, Params={'n_estimators': 100, 'max_depth': 10, 'min_samples_split': 5}\n"
     ]
    },
    {
     "name": "stderr",
     "output_type": "stream",
     "text": [
      "2025/07/18 14:22:24 INFO mlflow.tracking._tracking_service.client: 🏃 View run run_4 at: https://dagshub.com/iamprashantjain/Used-Car-Price-Predictor.mlflow/#/experiments/0/runs/35ee82be5dcf4f4b8d171fd6f174d92e.\n",
      "2025/07/18 14:22:24 INFO mlflow.tracking._tracking_service.client: 🧪 View experiment at: https://dagshub.com/iamprashantjain/Used-Car-Price-Predictor.mlflow/#/experiments/0.\n",
      "2025/07/18 14:24:22 WARNING mlflow.models.model: Model logged without a signature and input example. Please set `input_example` parameter when logging the model to auto infer the model signature.\n"
     ]
    },
    {
     "name": "stdout",
     "output_type": "stream",
     "text": [
      "Run 5: R2=0.9357, Params={'n_estimators': 100, 'max_depth': 20, 'min_samples_split': 2}\n"
     ]
    },
    {
     "name": "stderr",
     "output_type": "stream",
     "text": [
      "2025/07/18 14:24:31 INFO mlflow.tracking._tracking_service.client: 🏃 View run run_5 at: https://dagshub.com/iamprashantjain/Used-Car-Price-Predictor.mlflow/#/experiments/0/runs/38e3e1883fbb4b56894af59d1561d93a.\n",
      "2025/07/18 14:24:31 INFO mlflow.tracking._tracking_service.client: 🧪 View experiment at: https://dagshub.com/iamprashantjain/Used-Car-Price-Predictor.mlflow/#/experiments/0.\n",
      "2025/07/18 14:26:23 WARNING mlflow.models.model: Model logged without a signature and input example. Please set `input_example` parameter when logging the model to auto infer the model signature.\n"
     ]
    },
    {
     "name": "stdout",
     "output_type": "stream",
     "text": [
      "Run 6: R2=0.9373, Params={'n_estimators': 100, 'max_depth': 20, 'min_samples_split': 5}\n"
     ]
    },
    {
     "name": "stderr",
     "output_type": "stream",
     "text": [
      "2025/07/18 14:26:32 INFO mlflow.tracking._tracking_service.client: 🏃 View run run_6 at: https://dagshub.com/iamprashantjain/Used-Car-Price-Predictor.mlflow/#/experiments/0/runs/b98852f7ffbf4e4c963f6be7dcf19e4e.\n",
      "2025/07/18 14:26:32 INFO mlflow.tracking._tracking_service.client: 🧪 View experiment at: https://dagshub.com/iamprashantjain/Used-Car-Price-Predictor.mlflow/#/experiments/0.\n",
      "2025/07/18 14:30:05 WARNING mlflow.models.model: Model logged without a signature and input example. Please set `input_example` parameter when logging the model to auto infer the model signature.\n"
     ]
    },
    {
     "name": "stdout",
     "output_type": "stream",
     "text": [
      "Run 7: R2=0.9282, Params={'n_estimators': 200, 'max_depth': None, 'min_samples_split': 2}\n"
     ]
    },
    {
     "name": "stderr",
     "output_type": "stream",
     "text": [
      "2025/07/18 14:30:17 INFO mlflow.tracking._tracking_service.client: 🏃 View run run_7 at: https://dagshub.com/iamprashantjain/Used-Car-Price-Predictor.mlflow/#/experiments/0/runs/9cb8a26a10c24d3d91ea826002f51ca5.\n",
      "2025/07/18 14:30:17 INFO mlflow.tracking._tracking_service.client: 🧪 View experiment at: https://dagshub.com/iamprashantjain/Used-Car-Price-Predictor.mlflow/#/experiments/0.\n",
      "2025/07/18 14:33:19 WARNING mlflow.models.model: Model logged without a signature and input example. Please set `input_example` parameter when logging the model to auto infer the model signature.\n"
     ]
    },
    {
     "name": "stdout",
     "output_type": "stream",
     "text": [
      "Run 8: R2=0.9298, Params={'n_estimators': 200, 'max_depth': None, 'min_samples_split': 5}\n"
     ]
    },
    {
     "name": "stderr",
     "output_type": "stream",
     "text": [
      "2025/07/18 14:33:28 INFO mlflow.tracking._tracking_service.client: 🏃 View run run_8 at: https://dagshub.com/iamprashantjain/Used-Car-Price-Predictor.mlflow/#/experiments/0/runs/3b567ac5c88f4da7bd4e511ffe5fa710.\n",
      "2025/07/18 14:33:28 INFO mlflow.tracking._tracking_service.client: 🧪 View experiment at: https://dagshub.com/iamprashantjain/Used-Car-Price-Predictor.mlflow/#/experiments/0.\n",
      "2025/07/18 14:35:24 WARNING mlflow.models.model: Model logged without a signature and input example. Please set `input_example` parameter when logging the model to auto infer the model signature.\n"
     ]
    },
    {
     "name": "stdout",
     "output_type": "stream",
     "text": [
      "Run 9: R2=0.9316, Params={'n_estimators': 200, 'max_depth': 10, 'min_samples_split': 2}\n"
     ]
    },
    {
     "name": "stderr",
     "output_type": "stream",
     "text": [
      "2025/07/18 14:35:30 INFO mlflow.tracking._tracking_service.client: 🏃 View run run_9 at: https://dagshub.com/iamprashantjain/Used-Car-Price-Predictor.mlflow/#/experiments/0/runs/4fd0bdab981a4ad0991a3c4cb047ea90.\n",
      "2025/07/18 14:35:30 INFO mlflow.tracking._tracking_service.client: 🧪 View experiment at: https://dagshub.com/iamprashantjain/Used-Car-Price-Predictor.mlflow/#/experiments/0.\n",
      "2025/07/18 14:37:19 WARNING mlflow.models.model: Model logged without a signature and input example. Please set `input_example` parameter when logging the model to auto infer the model signature.\n"
     ]
    },
    {
     "name": "stdout",
     "output_type": "stream",
     "text": [
      "Run 10: R2=0.9296, Params={'n_estimators': 200, 'max_depth': 10, 'min_samples_split': 5}\n"
     ]
    },
    {
     "name": "stderr",
     "output_type": "stream",
     "text": [
      "2025/07/18 14:37:24 INFO mlflow.tracking._tracking_service.client: 🏃 View run run_10 at: https://dagshub.com/iamprashantjain/Used-Car-Price-Predictor.mlflow/#/experiments/0/runs/d5a57f5af9b748548a5d0f1762dc8a1d.\n",
      "2025/07/18 14:37:24 INFO mlflow.tracking._tracking_service.client: 🧪 View experiment at: https://dagshub.com/iamprashantjain/Used-Car-Price-Predictor.mlflow/#/experiments/0.\n",
      "2025/07/18 14:41:39 WARNING mlflow.models.model: Model logged without a signature and input example. Please set `input_example` parameter when logging the model to auto infer the model signature.\n"
     ]
    },
    {
     "name": "stdout",
     "output_type": "stream",
     "text": [
      "Run 11: R2=0.9289, Params={'n_estimators': 200, 'max_depth': 20, 'min_samples_split': 2}\n"
     ]
    },
    {
     "name": "stderr",
     "output_type": "stream",
     "text": [
      "2025/07/18 14:41:55 INFO mlflow.tracking._tracking_service.client: 🏃 View run run_11 at: https://dagshub.com/iamprashantjain/Used-Car-Price-Predictor.mlflow/#/experiments/0/runs/b0be6fa658ec443aa7412a7516cd68c0.\n",
      "2025/07/18 14:41:55 INFO mlflow.tracking._tracking_service.client: 🧪 View experiment at: https://dagshub.com/iamprashantjain/Used-Car-Price-Predictor.mlflow/#/experiments/0.\n",
      "2025/07/18 14:45:05 WARNING mlflow.models.model: Model logged without a signature and input example. Please set `input_example` parameter when logging the model to auto infer the model signature.\n"
     ]
    },
    {
     "name": "stdout",
     "output_type": "stream",
     "text": [
      "Run 12: R2=0.9304, Params={'n_estimators': 200, 'max_depth': 20, 'min_samples_split': 5}\n"
     ]
    },
    {
     "name": "stderr",
     "output_type": "stream",
     "text": [
      "2025/07/18 14:45:14 INFO mlflow.tracking._tracking_service.client: 🏃 View run run_12 at: https://dagshub.com/iamprashantjain/Used-Car-Price-Predictor.mlflow/#/experiments/0/runs/76fe4767d7c349e5a6d18a669406abc7.\n",
      "2025/07/18 14:45:14 INFO mlflow.tracking._tracking_service.client: 🧪 View experiment at: https://dagshub.com/iamprashantjain/Used-Car-Price-Predictor.mlflow/#/experiments/0.\n",
      "2025/07/18 14:49:44 WARNING mlflow.models.model: Model logged without a signature and input example. Please set `input_example` parameter when logging the model to auto infer the model signature.\n"
     ]
    },
    {
     "name": "stdout",
     "output_type": "stream",
     "text": [
      "Run 13: R2=0.9258, Params={'n_estimators': 300, 'max_depth': None, 'min_samples_split': 2}\n"
     ]
    },
    {
     "name": "stderr",
     "output_type": "stream",
     "text": [
      "2025/07/18 14:50:00 INFO mlflow.tracking._tracking_service.client: 🏃 View run run_13 at: https://dagshub.com/iamprashantjain/Used-Car-Price-Predictor.mlflow/#/experiments/0/runs/fce29a8bc20d4a55a05ee18b998eaa90.\n",
      "2025/07/18 14:50:00 INFO mlflow.tracking._tracking_service.client: 🧪 View experiment at: https://dagshub.com/iamprashantjain/Used-Car-Price-Predictor.mlflow/#/experiments/0.\n",
      "2025/07/18 14:53:05 WARNING mlflow.models.model: Model logged without a signature and input example. Please set `input_example` parameter when logging the model to auto infer the model signature.\n"
     ]
    },
    {
     "name": "stdout",
     "output_type": "stream",
     "text": [
      "Run 14: R2=0.9264, Params={'n_estimators': 300, 'max_depth': None, 'min_samples_split': 5}\n"
     ]
    },
    {
     "name": "stderr",
     "output_type": "stream",
     "text": [
      "2025/07/18 14:53:16 INFO mlflow.tracking._tracking_service.client: 🏃 View run run_14 at: https://dagshub.com/iamprashantjain/Used-Car-Price-Predictor.mlflow/#/experiments/0/runs/4dfbaf31ec794c84987ea6416cd1596d.\n",
      "2025/07/18 14:53:16 INFO mlflow.tracking._tracking_service.client: 🧪 View experiment at: https://dagshub.com/iamprashantjain/Used-Car-Price-Predictor.mlflow/#/experiments/0.\n",
      "2025/07/18 14:55:20 WARNING mlflow.models.model: Model logged without a signature and input example. Please set `input_example` parameter when logging the model to auto infer the model signature.\n"
     ]
    },
    {
     "name": "stdout",
     "output_type": "stream",
     "text": [
      "Run 15: R2=0.9274, Params={'n_estimators': 300, 'max_depth': 10, 'min_samples_split': 2}\n"
     ]
    },
    {
     "name": "stderr",
     "output_type": "stream",
     "text": [
      "2025/07/18 14:55:28 INFO mlflow.tracking._tracking_service.client: 🏃 View run run_15 at: https://dagshub.com/iamprashantjain/Used-Car-Price-Predictor.mlflow/#/experiments/0/runs/a09f4e57aab24030b851a621f2e80a42.\n",
      "2025/07/18 14:55:28 INFO mlflow.tracking._tracking_service.client: 🧪 View experiment at: https://dagshub.com/iamprashantjain/Used-Car-Price-Predictor.mlflow/#/experiments/0.\n",
      "2025/07/18 14:57:30 WARNING mlflow.models.model: Model logged without a signature and input example. Please set `input_example` parameter when logging the model to auto infer the model signature.\n"
     ]
    },
    {
     "name": "stdout",
     "output_type": "stream",
     "text": [
      "Run 16: R2=0.9266, Params={'n_estimators': 300, 'max_depth': 10, 'min_samples_split': 5}\n"
     ]
    },
    {
     "name": "stderr",
     "output_type": "stream",
     "text": [
      "2025/07/18 14:57:37 INFO mlflow.tracking._tracking_service.client: 🏃 View run run_16 at: https://dagshub.com/iamprashantjain/Used-Car-Price-Predictor.mlflow/#/experiments/0/runs/2f6a10fb581d46b2819c407a79ce6b9a.\n",
      "2025/07/18 14:57:37 INFO mlflow.tracking._tracking_service.client: 🧪 View experiment at: https://dagshub.com/iamprashantjain/Used-Car-Price-Predictor.mlflow/#/experiments/0.\n",
      "2025/07/18 15:01:06 WARNING mlflow.models.model: Model logged without a signature and input example. Please set `input_example` parameter when logging the model to auto infer the model signature.\n"
     ]
    },
    {
     "name": "stdout",
     "output_type": "stream",
     "text": [
      "Run 17: R2=0.9238, Params={'n_estimators': 300, 'max_depth': 20, 'min_samples_split': 2}\n"
     ]
    },
    {
     "name": "stderr",
     "output_type": "stream",
     "text": [
      "2025/07/18 15:01:22 INFO mlflow.tracking._tracking_service.client: 🏃 View run run_17 at: https://dagshub.com/iamprashantjain/Used-Car-Price-Predictor.mlflow/#/experiments/0/runs/b01af7de18a6415cb9d1ba0028bb7082.\n",
      "2025/07/18 15:01:22 INFO mlflow.tracking._tracking_service.client: 🧪 View experiment at: https://dagshub.com/iamprashantjain/Used-Car-Price-Predictor.mlflow/#/experiments/0.\n",
      "2025/07/18 15:04:25 WARNING mlflow.models.model: Model logged without a signature and input example. Please set `input_example` parameter when logging the model to auto infer the model signature.\n"
     ]
    },
    {
     "name": "stdout",
     "output_type": "stream",
     "text": [
      "Run 18: R2=0.9270, Params={'n_estimators': 300, 'max_depth': 20, 'min_samples_split': 5}\n"
     ]
    },
    {
     "name": "stderr",
     "output_type": "stream",
     "text": [
      "2025/07/18 15:04:38 INFO mlflow.tracking._tracking_service.client: 🏃 View run run_18 at: https://dagshub.com/iamprashantjain/Used-Car-Price-Predictor.mlflow/#/experiments/0/runs/53a3a093b2114319b380f659e38e5536.\n",
      "2025/07/18 15:04:38 INFO mlflow.tracking._tracking_service.client: 🧪 View experiment at: https://dagshub.com/iamprashantjain/Used-Car-Price-Predictor.mlflow/#/experiments/0.\n",
      "2025/07/18 15:04:46 WARNING mlflow.models.model: Model logged without a signature and input example. Please set `input_example` parameter when logging the model to auto infer the model signature.\n"
     ]
    },
    {
     "name": "stdout",
     "output_type": "stream",
     "text": [
      "\n",
      "✅ Best Model R2: 0.9407, Best Params: {'n_estimators': 100, 'max_depth': 10, 'min_samples_split': 2}\n"
     ]
    },
    {
     "name": "stderr",
     "output_type": "stream",
     "text": [
      "2025/07/18 15:04:50 INFO mlflow.tracking._tracking_service.client: 🏃 View run RandomForest_Hyperparameter_Tuning at: https://dagshub.com/iamprashantjain/Used-Car-Price-Predictor.mlflow/#/experiments/0/runs/446ada565df54c9bb616a4ebd285d335.\n",
      "2025/07/18 15:04:50 INFO mlflow.tracking._tracking_service.client: 🧪 View experiment at: https://dagshub.com/iamprashantjain/Used-Car-Price-Predictor.mlflow/#/experiments/0.\n"
     ]
    }
   ],
   "source": [
    "from sklearn.model_selection import train_test_split\n",
    "from sklearn.ensemble import RandomForestRegressor\n",
    "from sklearn.metrics import mean_absolute_error, mean_squared_error, r2_score\n",
    "import mlflow\n",
    "import mlflow.sklearn\n",
    "import numpy as np\n",
    "\n",
    "# --- Define parameter grid ---\n",
    "param_grid = {\n",
    "    'n_estimators': [100, 200, 300],\n",
    "    'max_depth': [None, 10, 20],\n",
    "    'min_samples_split': [2, 5]\n",
    "}\n",
    "\n",
    "# --- MLflow Parent Run ---\n",
    "with mlflow.start_run(run_name=\"RandomForest_Hyperparameter_Tuning\") as parent_run:\n",
    "    mlflow.set_tag(\"experiment_type\", \"random_forest_hyperparameter_tuning\")\n",
    "\n",
    "    best_r2 = -np.inf\n",
    "    best_params = None\n",
    "    best_model = None\n",
    "\n",
    "    run_counter = 1\n",
    "\n",
    "    for n_estimators in param_grid['n_estimators']:\n",
    "        for max_depth in param_grid['max_depth']:\n",
    "            for min_samples_split in param_grid['min_samples_split']:\n",
    "                params = {\n",
    "                    'n_estimators': n_estimators,\n",
    "                    'max_depth': max_depth,\n",
    "                    'min_samples_split': min_samples_split\n",
    "                }\n",
    "\n",
    "                with mlflow.start_run(run_name=f\"run_{run_counter}\", nested=True):\n",
    "                    mlflow.log_params(params)\n",
    "\n",
    "                    model = RandomForestRegressor(**params, random_state=42)\n",
    "                    model.fit(X_train, y_train)\n",
    "                    y_pred = model.predict(X_test)\n",
    "\n",
    "                    mae = mean_absolute_error(y_test, y_pred)\n",
    "                    mse = mean_squared_error(y_test, y_pred)\n",
    "                    r2 = r2_score(y_test, y_pred)\n",
    "\n",
    "                    mlflow.log_metrics({\n",
    "                        \"mae\": mae,\n",
    "                        \"mse\": mse,\n",
    "                        \"r2_score\": r2\n",
    "                    })\n",
    "\n",
    "                    mlflow.sklearn.log_model(model, \"model\")\n",
    "\n",
    "                    print(f\"Run {run_counter}: R2={r2:.4f}, Params={params}\")\n",
    "\n",
    "                    if r2 > best_r2:\n",
    "                        best_r2 = r2\n",
    "                        best_params = params\n",
    "                        best_model = model\n",
    "\n",
    "                    run_counter += 1\n",
    "\n",
    "    # Log best model in parent run\n",
    "    mlflow.log_params({f\"best_{k}\": v for k, v in best_params.items()})\n",
    "    mlflow.log_metric(\"best_r2_score\", best_r2)\n",
    "    mlflow.sklearn.log_model(best_model, \"best_random_forest_model\")\n",
    "\n",
    "    print(f\"\\n✅ Best Model R2: {best_r2:.4f}, Best Params: {best_params}\")"
   ]
  },
  {
   "cell_type": "code",
   "execution_count": null,
   "id": "ce7ca875",
   "metadata": {},
   "outputs": [],
   "source": []
  }
 ],
 "metadata": {
  "kernelspec": {
   "display_name": "Python 3",
   "language": "python",
   "name": "python3"
  },
  "language_info": {
   "codemirror_mode": {
    "name": "ipython",
    "version": 3
   },
   "file_extension": ".py",
   "mimetype": "text/x-python",
   "name": "python",
   "nbconvert_exporter": "python",
   "pygments_lexer": "ipython3",
   "version": "3.8.0"
  }
 },
 "nbformat": 4,
 "nbformat_minor": 5
}
